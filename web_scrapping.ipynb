{
 "cells": [
  {
   "cell_type": "code",
   "execution_count": 1,
   "metadata": {},
   "outputs": [
    {
     "name": "stdout",
     "output_type": "stream",
     "text": [
      "Requirement already satisfied: beautifulsoup4 in c:\\users\\rupesh\\.conda\\envs\\ada_project\\lib\\site-packages (4.11.1)\n",
      "Requirement already satisfied: soupsieve>1.2 in c:\\users\\rupesh\\.conda\\envs\\ada_project\\lib\\site-packages (from beautifulsoup4) (2.3.1)\n"
     ]
    }
   ],
   "source": [
    "!pip install beautifulsoup4\n"
   ]
  },
  {
   "cell_type": "code",
   "execution_count": 4,
   "metadata": {},
   "outputs": [],
   "source": [
    "import requests\n",
    "from bs4 import BeautifulSoup\n",
    "import pandas as pd\n",
    "import csv"
   ]
  },
  {
   "cell_type": "markdown",
   "metadata": {},
   "source": [
    "##request.get not working"
   ]
  },
  {
   "cell_type": "code",
   "execution_count": 86,
   "metadata": {},
   "outputs": [],
   "source": [
    "def extract(jobs):\n",
    "    headers = {'User-Agent':'Mozilla/5.0'}\n",
    "    url = f'https://www.monsterindia.com/search/sales-jobs?skills=sales&filter=true'\n",
    "    r = requests.get(url,headers)\n",
    "    print(r.status_code)"
   ]
  },
  {
   "cell_type": "code",
   "execution_count": 88,
   "metadata": {},
   "outputs": [
    {
     "name": "stdout",
     "output_type": "stream",
     "text": [
      "403\n"
     ]
    }
   ],
   "source": [
    "extract(0)"
   ]
  },
  {
   "cell_type": "markdown",
   "metadata": {},
   "source": [
    "## an extract function to call the link and get the soup object"
   ]
  },
  {
   "cell_type": "code",
   "execution_count": 2,
   "metadata": {},
   "outputs": [],
   "source": [
    "def extract(link):\n",
    "    from urllib.request import Request, urlopen\n",
    "    url=link\n",
    "    req = Request(url, headers={'User-Agent': 'Mozilla/5.0'})\n",
    "\n",
    "    web_byte = urlopen(req).read()\n",
    "    webpage = web_byte.decode('utf-8')\n",
    "    soup = BeautifulSoup(webpage,'html.parser')\n",
    "    return soup"
   ]
  },
  {
   "cell_type": "markdown",
   "metadata": {},
   "source": [
    "## transforming the content into title, company, salary, experience and job description"
   ]
  },
  {
   "cell_type": "code",
   "execution_count": 3,
   "metadata": {},
   "outputs": [],
   "source": [
    "def transform(soup):\n",
    "    divs = soup.find_all('div', class_='card-apply-content')\n",
    "    for item in divs:\n",
    "        title = item.find('div', class_ = 'job-tittle')\n",
    "        job_title = title.find('a').text.strip()\n",
    "        title_list.append(job_title)\n",
    "        company = title.find('span',class_='company-name').text.strip()\n",
    "        company_list.append(company)\n",
    "        search_tag = title.find('div',class_ = 'searctag row')\n",
    "        experience = search_tag.find('div', class_='exp col-xxs-12 col-sm-3 text-ellipsis').text.strip()\n",
    "        experience_list.append(experience)\n",
    "        try:\n",
    "            salary = search_tag.find('div', class_ ='package col-xxs-12 col-sm-4 text-ellipsis hidden-sm').text.strip()\n",
    "        except:\n",
    "            salary = 'not specified'\n",
    "        salary_list.append(salary)\n",
    "        description_link_tag = title.find('h3', class_='medium')\n",
    "        description_link = description_link_tag.a['href']\n",
    "        bs = extract(description_link)\n",
    "        try:\n",
    "            job_description = bs.find('div', class_='jd-text').text.strip()\n",
    "        except:\n",
    "            job_description = 'job description is not available for this job'\n",
    "        if salary =='not specified':\n",
    "            try:\n",
    "                salary = bs.find('div', class_ ='package col-xxs-12 col-sm-4 text-ellipsis hidden-sm').text.strip()\n",
    "            except:\n",
    "                salary = 'not specified'\n",
    "        description_list.append(job_description)\n",
    "    return\n"
   ]
  },
  {
   "cell_type": "code",
   "execution_count": 24,
   "metadata": {},
   "outputs": [],
   "source": [
    "title_list = []\n",
    "company_list = []\n",
    "experience_list = []\n",
    "salary_list = []\n",
    "description_list = []"
   ]
  },
  {
   "cell_type": "markdown",
   "metadata": {},
   "source": [
    "## calling the monster.com by categorising using different skill and extracting jobs in first ten pages."
   ]
  },
  {
   "cell_type": "code",
   "execution_count": 26,
   "metadata": {},
   "outputs": [],
   "source": [
    "skills = ['accounting-jobs','analytics-jobs','animation-jobs','architecture-jobs','banking-jobs','java-jobs','data-science-jobs','marketing-jobs','networking-jobs','online-marketing-jobs','online-marketing-jobs']\n",
    "\n",
    "for skill in skills:\n",
    "    title_list.clear()\n",
    "    company_list.clear()\n",
    "    experience_list.clear()\n",
    "    salary_list.clear()\n",
    "    description_list.clear()\n",
    "    c =extract(f'https://www.monsterindia.com/search/{skill}')\n",
    "    transform(c)\n",
    "    i = 0\n",
    "    for i in range(2,11):\n",
    "        c =extract(f'https://www.monsterindia.com/search/{skill}-{i}')\n",
    "        transform(c)\n",
    "\n",
    "    header = [\"SN\",\"Title\", \"Company\", \"Experience\",\"Salary\",\"Description\"]\n",
    "    x = 0\n",
    "\n",
    "    with open(f\"{skill}.csv\", 'w',encoding='UTF8',newline='') as f:\n",
    "        writer = csv.writer(f)\n",
    "        writer.writerow(header)\n",
    "        while x < len(title_list):\n",
    "            writer.writerow([x,title_list[x],company_list[x],experience_list[x],salary_list[x],description_list[x]])\n",
    "            x += 1"
   ]
  },
  {
   "cell_type": "code",
   "execution_count": null,
   "metadata": {},
   "outputs": [],
   "source": [
    "df = pd.read_csv('accounting-jobs.csv')"
   ]
  },
  {
   "cell_type": "code",
   "execution_count": 97,
   "metadata": {},
   "outputs": [
    {
     "data": {
      "text/html": [
       "<div>\n",
       "<style scoped>\n",
       "    .dataframe tbody tr th:only-of-type {\n",
       "        vertical-align: middle;\n",
       "    }\n",
       "\n",
       "    .dataframe tbody tr th {\n",
       "        vertical-align: top;\n",
       "    }\n",
       "\n",
       "    .dataframe thead th {\n",
       "        text-align: right;\n",
       "    }\n",
       "</style>\n",
       "<table border=\"1\" class=\"dataframe\">\n",
       "  <thead>\n",
       "    <tr style=\"text-align: right;\">\n",
       "      <th></th>\n",
       "      <th>Unnamed: 0</th>\n",
       "      <th>SN</th>\n",
       "      <th>Title</th>\n",
       "      <th>Company</th>\n",
       "      <th>Experience</th>\n",
       "      <th>Salary</th>\n",
       "      <th>Description</th>\n",
       "    </tr>\n",
       "  </thead>\n",
       "  <tbody>\n",
       "    <tr>\n",
       "      <th>0</th>\n",
       "      <td>0</td>\n",
       "      <td>0</td>\n",
       "      <td>FUND ACCOUNTING ANALYST</td>\n",
       "      <td>Citi</td>\n",
       "      <td>Not Specified</td>\n",
       "      <td>Not Specified</td>\n",
       "      <td>The Fund Accounting Analyst is an senior level...</td>\n",
       "    </tr>\n",
       "    <tr>\n",
       "      <th>1</th>\n",
       "      <td>1</td>\n",
       "      <td>1</td>\n",
       "      <td>AVP - FBR Accounting</td>\n",
       "      <td>Citi</td>\n",
       "      <td>8-10 years</td>\n",
       "      <td>Not Specified</td>\n",
       "      <td>The Finance Reporting Manager is an intermedia...</td>\n",
       "    </tr>\n",
       "    <tr>\n",
       "      <th>2</th>\n",
       "      <td>2</td>\n",
       "      <td>2</td>\n",
       "      <td>Finance and Accounting</td>\n",
       "      <td>Tata Group</td>\n",
       "      <td>1-6 years</td>\n",
       "      <td>Not Specified</td>\n",
       "      <td>BPO3 (Team Member Team LeaderNagpur.Graduate w...</td>\n",
       "    </tr>\n",
       "    <tr>\n",
       "      <th>3</th>\n",
       "      <td>3</td>\n",
       "      <td>3</td>\n",
       "      <td>Financial Accounting Associate</td>\n",
       "      <td>Wells Fargo</td>\n",
       "      <td>3-6 years</td>\n",
       "      <td>Not Specified</td>\n",
       "      <td>Job Description :About this role:Wells Fargo i...</td>\n",
       "    </tr>\n",
       "    <tr>\n",
       "      <th>4</th>\n",
       "      <td>4</td>\n",
       "      <td>4</td>\n",
       "      <td>C04- Fund Accounting</td>\n",
       "      <td>Citi</td>\n",
       "      <td>1-3 years</td>\n",
       "      <td>Not Specified</td>\n",
       "      <td>The Fund Accounting Specialist is an entry lev...</td>\n",
       "    </tr>\n",
       "  </tbody>\n",
       "</table>\n",
       "</div>"
      ],
      "text/plain": [
       "   Unnamed: 0  SN                           Title      Company     Experience  \\\n",
       "0           0   0         FUND ACCOUNTING ANALYST         Citi  Not Specified   \n",
       "1           1   1            AVP - FBR Accounting         Citi     8-10 years   \n",
       "2           2   2          Finance and Accounting   Tata Group      1-6 years   \n",
       "3           3   3  Financial Accounting Associate  Wells Fargo      3-6 years   \n",
       "4           4   4            C04- Fund Accounting         Citi      1-3 years   \n",
       "\n",
       "          Salary                                        Description  \n",
       "0  Not Specified  The Fund Accounting Analyst is an senior level...  \n",
       "1  Not Specified  The Finance Reporting Manager is an intermedia...  \n",
       "2  Not Specified  BPO3 (Team Member Team LeaderNagpur.Graduate w...  \n",
       "3  Not Specified  Job Description :About this role:Wells Fargo i...  \n",
       "4  Not Specified  The Fund Accounting Specialist is an entry lev...  "
      ]
     },
     "execution_count": 97,
     "metadata": {},
     "output_type": "execute_result"
    }
   ],
   "source": [
    "df.head()"
   ]
  },
  {
   "cell_type": "code",
   "execution_count": 92,
   "metadata": {},
   "outputs": [],
   "source": [
    "import re"
   ]
  },
  {
   "cell_type": "markdown",
   "metadata": {},
   "source": [
    "## Finding words like Salary, CTC in description, if found then generating a different csv file to store all the information."
   ]
  },
  {
   "cell_type": "code",
   "execution_count": null,
   "metadata": {},
   "outputs": [],
   "source": [
    "count = 0\n",
    "df_length = len(df['Salary'])\n",
    "i = 0\n",
    "sentence = []\n",
    "sentence_string = ''\n",
    "while i < 249:\n",
    "    sentence.clear()\n",
    "    if df['Salary'][i]=='Not Specified':\n",
    "        text = str(df['Description'][i])\n",
    "        print(text)\n",
    "        index = text.find('salary') or text.find('Salary') or text.find('ctc') or text.find('CTC')\n",
    "        if index:\n",
    "            if text[index] =='s':\n",
    "                sentence.append(re.findall(r\"([^.]*?salary[^.]*\\.)\",text))\n",
    "            if text[index] =='S':\n",
    "                sentence.append(re.findall(r\"([^.]*?Salary[^.]*\\.)\",text))\n",
    "            if text[index] == 'C':\n",
    "                sentence.append(re.findall(r\"([^.]*?CTC[^.]*\\.)\",text))\n",
    "\n",
    "            sentence_string.join(sentence)\n",
    "                \n",
    "            salary_text = re.findall(\"[\\$0-9,\\. ]*-[\\$0-9,\\. ]*\", sentence_string)\n",
    "\n",
    "            if not salary_text :\n",
    "                continue\n",
    "            else:\n",
    "                count += 1\n",
    "                df['Salary'][i]= salary_text\n",
    "    i += 1            \n",
    "\n",
    "    \n",
    "            \n",
    "        \n",
    "\n",
    "    "
   ]
  },
  {
   "cell_type": "code",
   "execution_count": 82,
   "metadata": {},
   "outputs": [
    {
     "name": "stdout",
     "output_type": "stream",
     "text": [
      "0\n"
     ]
    }
   ],
   "source": [
    "print(count)"
   ]
  },
  {
   "cell_type": "code",
   "execution_count": 73,
   "metadata": {},
   "outputs": [],
   "source": [
    "if count > 0:\n",
    "    df.to_csv(\"updated_accounting-jobs.csv\")"
   ]
  }
 ],
 "metadata": {
  "kernelspec": {
   "display_name": "Python 3.9.12 ('ada_project')",
   "language": "python",
   "name": "python3"
  },
  "language_info": {
   "codemirror_mode": {
    "name": "ipython",
    "version": 3
   },
   "file_extension": ".py",
   "mimetype": "text/x-python",
   "name": "python",
   "nbconvert_exporter": "python",
   "pygments_lexer": "ipython3",
   "version": "3.9.12"
  },
  "orig_nbformat": 4,
  "vscode": {
   "interpreter": {
    "hash": "5528979543291f4ff7dbe8d869c4bdc160cc5d7412ea2a3ffbbbc9b589fee580"
   }
  }
 },
 "nbformat": 4,
 "nbformat_minor": 2
}
